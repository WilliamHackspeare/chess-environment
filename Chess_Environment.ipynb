{
  "nbformat": 4,
  "nbformat_minor": 0,
  "metadata": {
    "colab": {
      "provenance": [],
      "authorship_tag": "ABX9TyMhEDzbSpdY6/ewx+to4iS8",
      "include_colab_link": true
    },
    "kernelspec": {
      "name": "python3",
      "display_name": "Python 3"
    },
    "language_info": {
      "name": "python"
    }
  },
  "cells": [
    {
      "cell_type": "markdown",
      "metadata": {
        "id": "view-in-github",
        "colab_type": "text"
      },
      "source": [
        "<a href=\"https://colab.research.google.com/github/WilliamHackspeare/chess-environment/blob/main/Chess_Environment.ipynb\" target=\"_parent\"><img src=\"https://colab.research.google.com/assets/colab-badge.svg\" alt=\"Open In Colab\"/></a>"
      ]
    },
    {
      "cell_type": "markdown",
      "source": [
        "# Chess Environment\n",
        "\n",
        "This project is meant to showcase a playground for human and programmatic chess play, building upon the python-chess and stockfish modules.\n",
        "\n"
      ],
      "metadata": {
        "id": "d7xe_2haCS_e"
      }
    },
    {
      "cell_type": "code",
      "execution_count": null,
      "metadata": {
        "id": "C9b-eiBoCORe"
      },
      "outputs": [],
      "source": []
    }
  ]
}